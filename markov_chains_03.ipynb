{
 "cells": [
  {
   "cell_type": "markdown",
   "id": "219e95d8",
   "metadata": {},
   "source": [
    "## Create Markov Chain Multi-touch-Attribution model"
   ]
  },
  {
   "cell_type": "markdown",
   "id": "e8da3dad",
   "metadata": {},
   "source": [
    "### Step 1: Construct the Transition Probability Matrix\n",
    "As discussed above, the transition probability matrix contains the probabilities associated with moving from one state to another state. This is calculated using the data from all customer journeys.\n",
    "\n",
    "In this step, we will:\n",
    "\n",
    "- Define a user-defined function (UDF), get_transition_array, that takes a customer journey and enumerates each of the corresponding channel transitions\n",
    "- Register the get_transition_array udf as a Spark UDF so that it can be utilized in Spark SQL\n",
    "- Use get_transition_array to enumerate all channel transitions in a customer's journey\n",
    "- Construct the transition probability matrix\n",
    "- Validate that the state transition probabilities are calculated correctly\n",
    "- Display the transition probability matrix"
   ]
  },
  {
   "cell_type": "markdown",
   "id": "6bb31dff",
   "metadata": {},
   "source": [
    "1.1 Define a user-defined function (UDF) that takes a customer journey and enumerates each of the corresponding channel transitions"
   ]
  },
  {
   "cell_type": "code",
   "execution_count": 6,
   "id": "d44d618a",
   "metadata": {},
   "outputs": [],
   "source": [
    "import pyspark\n",
    "from pyspark.sql import SparkSession\n",
    "from pyspark.sql.functions import col, to_timestamp\n",
    "from pyspark.sql.types import *\n",
    "\n",
    "spark = SparkSession.builder.appName('demo').getOrCreate()"
   ]
  },
  {
   "cell_type": "code",
   "execution_count": 2,
   "id": "17bcee4d",
   "metadata": {},
   "outputs": [],
   "source": [
    "def get_transition_array(path):\n",
    "    \n",
    "    state_transition_array = path.split(\">\")\n",
    "    initial_state = state_transition_array[0]\n",
    "  \n",
    "    state_transitions = []\n",
    "    for state in state_transition_array[1:]:\n",
    "        state_transitions.append(initial_state.strip()+' > '+state.strip())\n",
    "        initial_state =  state\n",
    "\n",
    "    return state_transitions"
   ]
  },
  {
   "cell_type": "code",
   "execution_count": 7,
   "id": "f78deb7a",
   "metadata": {},
   "outputs": [
    {
     "data": {
      "text/plain": [
       "<function __main__.get_transition_array(path)>"
      ]
     },
     "execution_count": 7,
     "metadata": {},
     "output_type": "execute_result"
    }
   ],
   "source": [
    "#Register the get_transition_array udf as a Spark UDF so that it can be utilized in Spark SQL\n",
    "\n",
    "spark.udf.register(\"get_transition_array\", get_transition_array, ArrayType(StringType()))"
   ]
  },
  {
   "cell_type": "code",
   "execution_count": 10,
   "id": "9d7a9d46",
   "metadata": {},
   "outputs": [],
   "source": [
    "from minio import Minio\n",
    "from sqlalchemy import create_engine\n",
    "\n",
    "ACCESS_KEY = \"DNPD2SAYLBELJ423HCNU\"\n",
    "SECRET_KEY = \"zF7F6W93HS8vt+JKen4U17+zhcHiwH47AMuO3ap0\"\n",
    "PUBLIC_BUCKET = \"shared-storage\"\n",
    "\n",
    "client = Minio(\n",
    "    endpoint=\"minio-server.default.svc.cluster.local:9000\",\n",
    "    access_key=ACCESS_KEY,\n",
    "    secret_key=SECRET_KEY,\n",
    "    secure=False,\n",
    ")"
   ]
  },
  {
   "cell_type": "code",
   "execution_count": 11,
   "id": "986d3ec6",
   "metadata": {},
   "outputs": [
    {
     "data": {
      "text/plain": [
       "<minio.datatypes.Object at 0x7fa6efec3d90>"
      ]
     },
     "execution_count": 11,
     "metadata": {},
     "output_type": "execute_result"
    }
   ],
   "source": [
    "monthly_data_path = \"/multi_touch_attribution/usr_journey_attribution_data.csv\"\n",
    "\n",
    "client.fget_object(\n",
    "            PUBLIC_BUCKET,\n",
    "            monthly_data_path,\n",
    "            \"usr_journey_attribution_data.csv\",\n",
    "        )"
   ]
  },
  {
   "cell_type": "code",
   "execution_count": 13,
   "id": "e2ca3f6c",
   "metadata": {},
   "outputs": [],
   "source": [
    "spark.read.option(\"header\",True) \\\n",
    "          .csv(\"usr_journey_attribution_data.csv\") \\\n",
    "          .createOrReplaceTempView(\"user_journey_view\")"
   ]
  },
  {
   "cell_type": "code",
   "execution_count": 18,
   "id": "4c68aca1",
   "metadata": {},
   "outputs": [],
   "source": [
    "usr_journey_data = spark.sql(\"select * from user_journey_view\")"
   ]
  },
  {
   "cell_type": "code",
   "execution_count": 20,
   "id": "b62f399a",
   "metadata": {},
   "outputs": [],
   "source": [
    "usr_journey_data.toPandas().to_csv('usr_journey_view.csv')"
   ]
  },
  {
   "cell_type": "markdown",
   "id": "8ad5474b",
   "metadata": {},
   "source": [
    "### markov_state_transitions\n",
    "\n",
    "Use the get_transition_array to enumerate all channel transitions in a customer's journey"
   ]
  },
  {
   "cell_type": "code",
   "execution_count": 33,
   "id": "506e3488",
   "metadata": {},
   "outputs": [],
   "source": [
    "spark.read.option(\"header\",False) \\\n",
    "          .csv(\"usr_journey_view.csv\") \\\n",
    "          .withColumnRenamed(\"_c1\", \"uid\").withColumnRenamed(\"_c2\", \"path\").withColumnRenamed(\"_c3\", \"first_interaction\").withColumnRenamed(\"_c4\", \"last_interaction\").withColumnRenamed(\"_c5\", \"conversion\").withColumnRenamed(\"_c6\", \"visiting_order\") \\\n",
    "          .createOrReplaceTempView(\"updated_user_journey_view\")"
   ]
  },
  {
   "cell_type": "code",
   "execution_count": 35,
   "id": "3dc038e0",
   "metadata": {},
   "outputs": [
    {
     "name": "stdout",
     "output_type": "stream",
     "text": [
      "+----+--------------------+--------------------+--------------------+--------------------+----------+--------------------+\n",
      "| _c0|                 uid|                path|   first_interaction|    last_interaction|conversion|      visiting_order|\n",
      "+----+--------------------+--------------------+--------------------+--------------------+----------+--------------------+\n",
      "|null|0000427e4c974a9e9...|Start > Search En...|Search Engine Mar...|               Email|         0|  [1, 2, 3, 4, 5, 6]|\n",
      "|   0|00007b54c06247dea...|Start > Google Di...|Google Display Ne...|          Affiliates|         0|        [1, 2, 3, 4]|\n",
      "|   1|00010c1be74244eba...|Start > Affiliate...|          Affiliates|Google Display Ne...|         0|              [1, 2]|\n",
      "|   2|00012725fdce4b08b...|Start > Affiliate...|          Affiliates|          Affiliates|         0|[1, 2, 3, 4, 5, 6...|\n",
      "|   3|00013dd4f787470f8...|Start > Search En...|Search Engine Mar...|      Social Network|         0|[1, 2, 3, 4, 5, 6...|\n",
      "|   4|0001a1c3d15d42318...|Start > Social Ne...|      Social Network|      Social Network|         0|[1, 2, 3, 4, 5, 6...|\n",
      "|   5|000242bee2f54d9ea...|Start > Social Ne...|      Social Network|          Affiliates|         1|        [1, 2, 3, 4]|\n",
      "|   6|000247aba87a4cab9...|Start > Search En...|Search Engine Mar...|          Affiliates|         0|  [1, 2, 3, 4, 5, 6]|\n",
      "|   7|0002d0e8d402465b9...|Start > Search En...|Search Engine Mar...|Search Engine Mar...|         0|[1, 2, 3, 4, 5, 6...|\n",
      "|   8|000372916fa24e7b9...|Start > Affiliate...|          Affiliates|      Social Network|         0|        [1, 2, 3, 4]|\n",
      "|   9|0003cb70a7664bbe9...|Start > Social Ne...|      Social Network|          Affiliates|         1|           [1, 2, 3]|\n",
      "|  10|00044affa34d41b79...|Start > Search En...|Search Engine Mar...|      Social Network|         1|        [1, 2, 3, 4]|\n",
      "|  11|000527fb468044358...|Start > Affiliate...|          Affiliates|          Affiliates|         0|[1, 2, 3, 4, 5, 6...|\n",
      "|  12|0006452ec24744ee9...|Start > Social Ne...|      Social Network|          Affiliates|         0|[1, 2, 3, 4, 5, 6...|\n",
      "|  13|00068c1c491c4b2eb...|Start > Search En...|Search Engine Mar...|Search Engine Mar...|         0|              [1, 2]|\n",
      "|  14|0006e28f3cf040448...|Start > Search En...|Search Engine Mar...|      Social Network|         0|[1, 2, 3, 4, 5, 6...|\n",
      "|  15|0006e51a72af4d658...|Start > Google Di...|Google Display Ne...|          Affiliates|         0|        [1, 2, 3, 4]|\n",
      "|  16|0007b24fbfaa4489a...|Start > Search En...|Search Engine Mar...|          Affiliates|         0|[1, 2, 3, 4, 5, 6...|\n",
      "|  17|0007bb16a4d841b79...|Start > Search En...|Search Engine Mar...|Search Engine Mar...|         0|                 [1]|\n",
      "|  18|0008f1d399db4ab58...|Start > Social Ne...|      Social Network|      Social Network|         1|           [1, 2, 3]|\n",
      "+----+--------------------+--------------------+--------------------+--------------------+----------+--------------------+\n",
      "only showing top 20 rows\n",
      "\n"
     ]
    }
   ],
   "source": [
    "spark.sql(\"select * from updated_user_journey_view\").show()"
   ]
  },
  {
   "cell_type": "code",
   "execution_count": 36,
   "id": "3d7c71b2",
   "metadata": {},
   "outputs": [
    {
     "data": {
      "text/plain": [
       "DataFrame[]"
      ]
     },
     "execution_count": 36,
     "metadata": {},
     "output_type": "execute_result"
    }
   ],
   "source": [
    "spark.sql(\"\"\"CREATE OR REPLACE TEMPORARY VIEW markov_state_transitions AS\n",
    "SELECT path,\n",
    "  explode(get_transition_array(path)) as transition,\n",
    "  1 AS cnt\n",
    "FROM\n",
    "  updated_user_journey_view\"\"\")"
   ]
  },
  {
   "cell_type": "code",
   "execution_count": 37,
   "id": "d763d929",
   "metadata": {},
   "outputs": [
    {
     "name": "stdout",
     "output_type": "stream",
     "text": [
      "+--------------------+--------------------+---+\n",
      "|                path|          transition|cnt|\n",
      "+--------------------+--------------------+---+\n",
      "|Start > Search En...|Start > Search En...|  1|\n",
      "|Start > Search En...|Search Engine Mar...|  1|\n",
      "|Start > Search En...|Social Network > ...|  1|\n",
      "|Start > Search En...|Google Display Ne...|  1|\n",
      "|Start > Search En...|Social Network > ...|  1|\n",
      "|Start > Search En...|Search Engine Mar...|  1|\n",
      "|Start > Search En...|        Email > Null|  1|\n",
      "|Start > Google Di...|Start > Google Di...|  1|\n",
      "|Start > Google Di...|Google Display Ne...|  1|\n",
      "|Start > Google Di...|Search Engine Mar...|  1|\n",
      "|Start > Google Di...|Search Engine Mar...|  1|\n",
      "|Start > Google Di...|   Affiliates > Null|  1|\n",
      "|Start > Affiliate...|  Start > Affiliates|  1|\n",
      "|Start > Affiliate...|Affiliates > Goog...|  1|\n",
      "|Start > Affiliate...|Google Display Ne...|  1|\n",
      "|Start > Affiliate...|  Start > Affiliates|  1|\n",
      "|Start > Affiliate...|Affiliates > Affi...|  1|\n",
      "|Start > Affiliate...|Affiliates > Soci...|  1|\n",
      "|Start > Affiliate...|Social Network > ...|  1|\n",
      "|Start > Affiliate...|Social Network > ...|  1|\n",
      "+--------------------+--------------------+---+\n",
      "only showing top 20 rows\n",
      "\n"
     ]
    }
   ],
   "source": [
    "markov_data = spark.sql(\"select * from markov_state_transitions\")\n",
    "markov_data.show()"
   ]
  },
  {
   "cell_type": "code",
   "execution_count": 38,
   "id": "a74b498e",
   "metadata": {},
   "outputs": [],
   "source": [
    "markov_data.write.option(\"header\",True) \\\n",
    " .csv(\"usr_journey_attrition_data/markov_state_transitions.csv\")"
   ]
  },
  {
   "cell_type": "code",
   "execution_count": null,
   "id": "a816c84b",
   "metadata": {},
   "outputs": [],
   "source": [
    "data_file = \"/multi_touch_attribution/markov_state_transitions.csv\"\n",
    "\n",
    "client.fput_object(\n",
    "    PUBLIC_BUCKET,\n",
    "    data_file,\n",
    "    'usr_journey_attrition_data/markov_state_transitions.csv/markov_state_transitions.csv'  \n",
    ")"
   ]
  },
  {
   "cell_type": "markdown",
   "id": "c0a9e7da",
   "metadata": {},
   "source": [
    "### Construct the transition probability matrix"
   ]
  },
  {
   "cell_type": "code",
   "execution_count": 39,
   "id": "111d3b84",
   "metadata": {},
   "outputs": [
    {
     "data": {
      "text/plain": [
       "DataFrame[]"
      ]
     },
     "execution_count": 39,
     "metadata": {},
     "output_type": "execute_result"
    }
   ],
   "source": [
    "spark.sql(\"\"\"CREATE OR REPLACE TEMPORARY VIEW transition_matrix AS\n",
    "SELECT\n",
    "  left_table.start_state,\n",
    "  left_table.end_state,\n",
    "  left_table.total_transitions / right_table.total_state_transitions_initiated_from_start_state AS transition_probability\n",
    "FROM\n",
    "  (\n",
    "    SELECT\n",
    "      transition,\n",
    "      sum(cnt) total_transitions,\n",
    "      trim(SPLIT(transition, '>') [0]) start_state,\n",
    "      trim(SPLIT(transition, '>') [1]) end_state\n",
    "    FROM\n",
    "      markov_state_transitions\n",
    "    GROUP BY\n",
    "      transition\n",
    "    ORDER BY\n",
    "      transition\n",
    "  ) left_table\n",
    "  JOIN (\n",
    "    SELECT\n",
    "      a.start_state,\n",
    "      sum(a.cnt) total_state_transitions_initiated_from_start_state\n",
    "    FROM\n",
    "      (\n",
    "        SELECT\n",
    "          trim(SPLIT(transition, '>') [0]) start_state,\n",
    "          cnt\n",
    "        FROM\n",
    "          markov_state_transitions\n",
    "      ) AS a\n",
    "    GROUP BY\n",
    "      a.start_state\n",
    "  ) right_table ON left_table.start_state = right_table.start_state\n",
    "ORDER BY\n",
    "  end_state DESC\n",
    "\"\"\")"
   ]
  },
  {
   "cell_type": "markdown",
   "id": "9fa9e9d2",
   "metadata": {},
   "source": [
    "#### Validate that the state transition probabilities are calculated correctly\n",
    "Sum of all the outgoing probabilities (edges) from any channel (state in the graph) should sum to 100%."
   ]
  },
  {
   "cell_type": "code",
   "execution_count": 41,
   "id": "b97364e3",
   "metadata": {},
   "outputs": [
    {
     "name": "stdout",
     "output_type": "stream",
     "text": [
      "+--------------------+--------------------------+\n",
      "|         start_state|transition_probability_sum|\n",
      "+--------------------+--------------------------+\n",
      "|Search Engine Mar...|                       1.0|\n",
      "|Google Display Ne...|                       1.0|\n",
      "|               Email|                       1.0|\n",
      "|          Affiliates|                       1.0|\n",
      "|               Start|                       1.0|\n",
      "|      Social Network|                       1.0|\n",
      "+--------------------+--------------------------+\n",
      "\n"
     ]
    }
   ],
   "source": [
    "spark.sql(\"\"\"SELECT start_state, round(sum(transition_probability),2) as transition_probability_sum \n",
    "FROM transition_matrix\n",
    "GROUP BY start_state\"\"\").show()"
   ]
  },
  {
   "cell_type": "code",
   "execution_count": 42,
   "id": "0511d648",
   "metadata": {},
   "outputs": [
    {
     "name": "stdout",
     "output_type": "stream",
     "text": [
      "+--------------------+--------------------+----------------------+\n",
      "|         start_state|           end_state|transition_probability|\n",
      "+--------------------+--------------------+----------------------+\n",
      "|      Social Network|      Social Network|   0.16106696161392717|\n",
      "|Search Engine Mar...|      Social Network|   0.16367875189292425|\n",
      "|               Email|      Social Network|   0.16752039461202808|\n",
      "|          Affiliates|      Social Network|   0.16211034109973943|\n",
      "|Google Display Ne...|      Social Network|   0.16384554214130065|\n",
      "|               Start|      Social Network|   0.20271424942458835|\n",
      "|      Social Network|Search Engine Mar...|   0.23301338626222529|\n",
      "|Google Display Ne...|Search Engine Mar...|    0.2402172902746078|\n",
      "|               Start|Search Engine Mar...|    0.2971972257076216|\n",
      "|Search Engine Mar...|Search Engine Mar...|   0.23890655329069593|\n",
      "|               Email|Search Engine Mar...|   0.23989755264655663|\n",
      "|          Affiliates|Search Engine Mar...|    0.2347820765829853|\n",
      "|Google Display Ne...|                Null|    0.1745035061809995|\n",
      "|Search Engine Mar...|                Null|   0.17405015533687546|\n",
      "|               Email|                Null|    0.1723265667488775|\n",
      "|          Affiliates|                Null|   0.17007562429564357|\n",
      "|      Social Network|                Null|   0.16961235142158013|\n",
      "|Search Engine Mar...|Google Display Ne...|   0.12061635174305148|\n",
      "|Google Display Ne...|Google Display Ne...|   0.12048043458054922|\n",
      "|               Email|Google Display Ne...|   0.12220957440080946|\n",
      "+--------------------+--------------------+----------------------+\n",
      "only showing top 20 rows\n",
      "\n"
     ]
    }
   ],
   "source": [
    "transition_matrix = spark.sql(\"select * from transition_matrix\")\n",
    "transition_matrix.show()"
   ]
  },
  {
   "cell_type": "code",
   "execution_count": 43,
   "id": "cc984b95",
   "metadata": {},
   "outputs": [],
   "source": [
    "transition_matrix.write.option(\"header\",True) \\\n",
    " .csv(\"usr_journey_attrition_data/transition_matrix.csv\")"
   ]
  },
  {
   "cell_type": "code",
   "execution_count": null,
   "id": "e1be97d5",
   "metadata": {},
   "outputs": [],
   "source": [
    "data_file = \"/multi_touch_attribution/transition_matrix.csv\"\n",
    "\n",
    "client.fput_object(\n",
    "    PUBLIC_BUCKET,\n",
    "    data_file,\n",
    "    'usr_journey_attrition_data/transition_matrix_data.csv/transition_matrix.csv'  \n",
    ")"
   ]
  },
  {
   "cell_type": "markdown",
   "id": "88beba49",
   "metadata": {},
   "source": [
    "### Display the transition probability matrix"
   ]
  },
  {
   "cell_type": "code",
   "execution_count": 49,
   "id": "a24ce26a",
   "metadata": {},
   "outputs": [
    {
     "data": {
      "text/plain": [
       "<AxesSubplot:xlabel='end_state', ylabel='start_state'>"
      ]
     },
     "execution_count": 49,
     "metadata": {},
     "output_type": "execute_result"
    },
    {
     "data": {
      "image/png": "[encoded data removed]",
      "text/plain": [
       "<Figure size 720x360 with 2 Axes>"
      ]
     },
     "metadata": {
      "needs_background": "light"
     },
     "output_type": "display_data"
    }
   ],
   "source": [
    "import matplotlib.pyplot as plt\n",
    "import seaborn as sns\n",
    "transition_matrix_pd = spark.table('transition_matrix').toPandas()\n",
    "transition_matrix_pivot = transition_matrix_pd.pivot(index='start_state',columns='end_state',values='transition_probability')\n",
    "\n",
    "plt.figure(figsize=(10,5))\n",
    "sns.set(font_scale=1.4)\n",
    "sns.heatmap(transition_matrix_pivot,cmap='Blues',vmax=0.25,annot=True)"
   ]
  },
  {
   "cell_type": "markdown",
   "id": "3a252db9",
   "metadata": {},
   "source": [
    "## Calculate the Total Conversion Probability\n",
    "\n",
    "In this step, we will:\n",
    "\n",
    "- Define get_transition_probability_graph utility function\n",
    "- Define calculate_conversion_probability utility function\n",
    "- Calculate the Total Conversion Probability"
   ]
  },
  {
   "cell_type": "code",
   "execution_count": 45,
   "id": "9896cc06",
   "metadata": {},
   "outputs": [],
   "source": [
    "def get_transition_probability_graph(removal_state = \"null\"):\n",
    "\n",
    "    transition_probability_pandas_df = None\n",
    "\n",
    "    # Get the transition probability graph without any states excluded if the removal_state is null\n",
    "    if removal_state == \"null\":\n",
    "        transition_probability_pandas_df = spark.sql('''select\n",
    "            trim(start_state) as start_state,\n",
    "            collect_list(end_state) as next_stages,\n",
    "            collect_list(transition_probability) as next_stage_transition_probabilities\n",
    "          from\n",
    "            transition_matrix\n",
    "          group by\n",
    "            start_state''').toPandas()\n",
    "\n",
    "    # Otherwise, get the transition probability graph with the specified channel excluded/removed\n",
    "    else:\n",
    "        transition_probability_pandas_df = spark.sql('''select\n",
    "          sub1.start_state as start_state,\n",
    "          collect_list(sub1.end_state) as next_stages,\n",
    "          collect_list(transition_probability) as next_stage_transition_probabilities\n",
    "          from\n",
    "          (\n",
    "            select\n",
    "              trim(start_state) as start_state,\n",
    "              case\n",
    "                when end_state == \\\"'''+removal_state+'''\\\" then 'Null'\n",
    "                else end_state\n",
    "              end as end_state,\n",
    "              transition_probability\n",
    "            from\n",
    "              transition_matrix\n",
    "            where\n",
    "              start_state != \\\"'''+removal_state+'''\\\"\n",
    "          ) sub1 group by sub1.start_state''').toPandas()\n",
    "\n",
    "    return transition_probability_pandas_df"
   ]
  },
  {
   "cell_type": "code",
   "execution_count": 46,
   "id": "6b54ed1f",
   "metadata": {},
   "outputs": [],
   "source": [
    "transition_probability_pandas_df = get_transition_probability_graph()"
   ]
  },
  {
   "cell_type": "code",
   "execution_count": 52,
   "id": "d6f65cb5",
   "metadata": {},
   "outputs": [],
   "source": [
    "transition_probability_pandas_df.to_csv('next_stage_transition_probability.csv')"
   ]
  },
  {
   "cell_type": "code",
   "execution_count": 53,
   "id": "d476380c",
   "metadata": {},
   "outputs": [
    {
     "data": {
      "text/plain": [
       "<minio.helpers.ObjectWriteResult at 0x7fa6da4d1ff0>"
      ]
     },
     "execution_count": 53,
     "metadata": {},
     "output_type": "execute_result"
    }
   ],
   "source": [
    "data_file = \"/multi_touch_attribution/next_stage_transition_probability.csv\"\n",
    "\n",
    "client.fput_object(\n",
    "    PUBLIC_BUCKET,\n",
    "    data_file,\n",
    "    'next_stage_transition_probability.csv'  \n",
    ")"
   ]
  },
  {
   "cell_type": "markdown",
   "id": "a0dfef5f",
   "metadata": {},
   "source": [
    "### Define calculate_conversion_probability utility function\n",
    "\n",
    "This utility function returns the total conversion probability based on the provided Transition Probability Matrix in pandas data frame format"
   ]
  },
  {
   "cell_type": "code",
   "execution_count": 54,
   "id": "5a76a5ae",
   "metadata": {},
   "outputs": [],
   "source": [
    "def calculate_conversion_probability(transition_probability_pandas_df, calculated_state_conversion_probabilities, visited_states, current_state=\"Start\"):\n",
    " \n",
    "    if current_state==\"Conversion\":\n",
    "        return 1.0\n",
    "\n",
    "    elif (current_state==\"Null\") or (current_state in visited_states):\n",
    "        return 0.0\n",
    "\n",
    "    elif current_state in calculated_state_conversion_probabilities.keys():\n",
    "        return calculated_state_conversion_probabilities[current_state]\n",
    "\n",
    "    else:\n",
    "\n",
    "        visited_states.add(current_state)\n",
    "\n",
    "    current_state_transition_df = transition_probability_pandas_df.loc[transition_probability_pandas_df.start_state==current_state]\n",
    "\n",
    "    next_states = current_state_transition_df.next_stages.to_list()[0]\n",
    "    next_states_transition_probab = current_state_transition_df.next_stage_transition_probabilities.to_list()[0]\n",
    "\n",
    "    current_state_conversion_probability_arr = []\n",
    "\n",
    "    import copy\n",
    "    for next_state, next_state_tx_probability in zip(next_states, next_states_transition_probab):\n",
    "        current_state_conversion_probability_arr.append(next_state_tx_probability * calculate_conversion_probability(transition_probability_pandas_df, calculated_state_conversion_probabilities, copy.deepcopy(visited_states), next_state))\n",
    "\n",
    "    calculated_state_conversion_probabilities[current_state] =  sum(current_state_conversion_probability_arr)\n",
    "\n",
    "    return calculated_state_conversion_probabilities[current_state]"
   ]
  },
  {
   "cell_type": "code",
   "execution_count": 55,
   "id": "adb362a7",
   "metadata": {},
   "outputs": [],
   "source": [
    "total_conversion_probability = calculate_conversion_probability(transition_probability_pandas_df, {}, visited_states=set(), current_state=\"Start\")"
   ]
  },
  {
   "cell_type": "code",
   "execution_count": 56,
   "id": "f4caec4a",
   "metadata": {},
   "outputs": [
    {
     "data": {
      "text/plain": [
       "0.03802154134387996"
      ]
     },
     "execution_count": 56,
     "metadata": {},
     "output_type": "execute_result"
    }
   ],
   "source": [
    "total_conversion_probability"
   ]
  },
  {
   "cell_type": "markdown",
   "id": "8110ef4c",
   "metadata": {},
   "source": [
    "### Use Removal Effect to Calculate Attribution\n",
    "In this step, we will:\n",
    "\n",
    "- Calculate the removal effect per channel\n",
    "- Calculate conversion attribution per channel\n",
    "- Register conversion_pandas_df as table to use SQL\n",
    "- View channel attribution\n",
    "- Merge channel attribution results into gold_attribution table"
   ]
  },
  {
   "cell_type": "code",
   "execution_count": 57,
   "id": "7f6886c6",
   "metadata": {},
   "outputs": [],
   "source": [
    "removal_effect_per_channel = {}\n",
    "for channel in transition_probability_pandas_df.start_state.to_list():\n",
    "    \n",
    "    if channel!=\"Start\":\n",
    "        transition_probability_subset_pandas_df = get_transition_probability_graph(removal_state=channel)\n",
    "        new_conversion_probability =  calculate_conversion_probability(transition_probability_subset_pandas_df, {}, visited_states=set(), current_state=\"Start\")\n",
    "        removal_effect_per_channel[channel] = round(((total_conversion_probability-new_conversion_probability)/total_conversion_probability), 2)"
   ]
  },
  {
   "cell_type": "markdown",
   "id": "8d55c304",
   "metadata": {},
   "source": [
    "#### Calculate conversion attribution per channel"
   ]
  },
  {
   "cell_type": "code",
   "execution_count": 59,
   "id": "ef3fb85b",
   "metadata": {},
   "outputs": [],
   "source": [
    "import pandas as pd\n",
    "conversion_attribution={}\n",
    " \n",
    "for channel in removal_effect_per_channel.keys():\n",
    "    conversion_attribution[channel] = round(removal_effect_per_channel[channel] / sum(removal_effect_per_channel.values()), 2)\n",
    "\n",
    "    channels = list(conversion_attribution.keys())\n",
    "    conversions = list(conversion_attribution.values())\n",
    "\n",
    "    conversion_pandas_df= pd.DataFrame({'attribution_model': \n",
    "                                    ['markov_chain' for _ in range(len(channels))], \n",
    "                                    'channel':channels, \n",
    "                                    'attribution_percent': conversions})\n"
   ]
  },
  {
   "cell_type": "code",
   "execution_count": 60,
   "id": "50998724",
   "metadata": {},
   "outputs": [],
   "source": [
    "# Register \n",
    "\n",
    "sparkDF=spark.createDataFrame(conversion_pandas_df) \n",
    "sparkDF.createOrReplaceTempView(\"markov_chain_attribution_update\")"
   ]
  },
  {
   "cell_type": "code",
   "execution_count": 61,
   "id": "47bd710d",
   "metadata": {},
   "outputs": [
    {
     "name": "stdout",
     "output_type": "stream",
     "text": [
      "+-----------------+--------------------+-------------------+\n",
      "|attribution_model|             channel|attribution_percent|\n",
      "+-----------------+--------------------+-------------------+\n",
      "|     markov_chain|Search Engine Mar...|               0.22|\n",
      "|     markov_chain|Google Display Ne...|               0.13|\n",
      "|     markov_chain|               Email|               0.02|\n",
      "|     markov_chain|          Affiliates|               0.37|\n",
      "|     markov_chain|      Social Network|               0.25|\n",
      "+-----------------+--------------------+-------------------+\n",
      "\n"
     ]
    }
   ],
   "source": [
    "markov_update = spark.sql(\"select * from markov_chain_attribution_update\")\n",
    "markov_update.show()"
   ]
  },
  {
   "cell_type": "code",
   "execution_count": 62,
   "id": "e2bfe869",
   "metadata": {},
   "outputs": [],
   "source": [
    "markov_update.write.option(\"header\",True) \\\n",
    " .csv(\"usr_journey_attrition_data/markov_chain_attribution_update.csv\")"
   ]
  },
  {
   "cell_type": "code",
   "execution_count": null,
   "id": "f417baff",
   "metadata": {},
   "outputs": [],
   "source": [
    "data_file = \"/multi_touch_attribution/markov_chain_attribution_update.csv\"\n",
    "\n",
    "client.fput_object(\n",
    "    PUBLIC_BUCKET,\n",
    "    data_file,\n",
    "    'usr_journey_attrition_data/markov_chain_attribution_update.csv/markov_chain_attribution_update.csv'  \n",
    ")"
   ]
  },
  {
   "cell_type": "markdown",
   "id": "8bc835ed",
   "metadata": {},
   "source": [
    "### Compare Channel Performance Across Methods"
   ]
  },
  {
   "cell_type": "code",
   "execution_count": 65,
   "id": "36fbc60e",
   "metadata": {},
   "outputs": [
    {
     "data": {
      "text/plain": [
       "<seaborn.axisgrid.FacetGrid at 0x7fa6d5f169b0>"
      ]
     },
     "execution_count": 65,
     "metadata": {},
     "output_type": "execute_result"
    },
    {
     "data": {
      "image/png": "[encoded data removed]",
      "text/plain": [
       "<Figure size 848.305x360 with 1 Axes>"
      ]
     },
     "metadata": {},
     "output_type": "display_data"
    }
   ],
   "source": [
    "attribution_pd = spark.table('markov_chain_attribution_update').toPandas()\n",
    " \n",
    "sns.set(font_scale=1.1)\n",
    "sns.catplot(x='channel',y='attribution_percent',hue='attribution_model',data=attribution_pd, kind='bar', aspect=2)"
   ]
  },
  {
   "cell_type": "code",
   "execution_count": null,
   "id": "fd8fc679",
   "metadata": {},
   "outputs": [],
   "source": []
  }
 ],
 "metadata": {
  "kernelspec": {
   "display_name": "Python 3 (ipykernel)",
   "language": "python",
   "name": "python3"
  },
  "language_info": {
   "codemirror_mode": {
    "name": "ipython",
    "version": 3
   },
   "file_extension": ".py",
   "mimetype": "text/x-python",
   "name": "python",
   "nbconvert_exporter": "python",
   "pygments_lexer": "ipython3",
   "version": "3.10.5"
  }
 },
 "nbformat": 4,
 "nbformat_minor": 5
}
