{
 "cells": [
  {
   "cell_type": "markdown",
   "id": "8e619eed",
   "metadata": {},
   "source": [
    "### Data Preparation"
   ]
  },
  {
   "cell_type": "code",
   "execution_count": null,
   "id": "4604ecc6",
   "metadata": {},
   "outputs": [],
   "source": [
    "!pip install pyspark==3.2.1\n",
    "!pip install minio\n",
    "\n",
    "import pyspark\n",
    "from pyspark.sql import SparkSession\n",
    "from pyspark.sql.functions import col, to_timestamp\n",
    "from pyspark.sql.types import *\n",
    "import time\n",
    "\n",
    "spark = SparkSession.builder.appName('demo').getOrCreate()"
   ]
  },
  {
   "cell_type": "markdown",
   "id": "2703fd3a",
   "metadata": {},
   "source": [
    "### Define the schema of the data, if data has more columns just go with the bydefault schema, instaed create your own schema suitable for the data"
   ]
  },
  {
   "cell_type": "code",
   "execution_count": 25,
   "id": "6d7ce7b5",
   "metadata": {},
   "outputs": [
    {
     "data": {
      "text/plain": [
       "StructType(List(StructField(uid,StringType,true),StructField(time,StringType,true),StructField(interaction,StringType,true),StructField(channel,StringType,true),StructField(conversion,StringType,true)))"
      ]
     },
     "execution_count": 25,
     "metadata": {},
     "output_type": "execute_result"
    }
   ],
   "source": [
    "schema = spark.read.csv('s3_attribution_data.csv_2023_04_18_15_30_25.csv',header=True).schema\n",
    "schema"
   ]
  },
  {
   "cell_type": "code",
   "execution_count": 7,
   "id": "41b9b7d6",
   "metadata": {},
   "outputs": [],
   "source": [
    "#convert the csv data to table data, easily accessible through pysql\n",
    "\n",
    "spark.read.option(\"header\",True) \\\n",
    "          .csv(\"s3_attribution_data.csv_2023_04_18_15_30_25.csv\") \\\n",
    "          .createOrReplaceTempView(\"attribution\")"
   ]
  },
  {
   "cell_type": "code",
   "execution_count": 8,
   "id": "3df570e1",
   "metadata": {},
   "outputs": [
    {
     "name": "stdout",
     "output_type": "stream",
     "text": [
      "+--------------------+-------------------+--------------------+----------+\n",
      "|                 uid|               time|             channel|conversion|\n",
      "+--------------------+-------------------+--------------------+----------+\n",
      "|ec66fa36ab5e42558...|2020-05-22 04:31:17|Search Engine Mar...|         0|\n",
      "|ec66fa36ab5e42558...|2020-06-07 20:05:15|          Affiliates|         0|\n",
      "|ec66fa36ab5e42558...|2020-06-09 14:14:47|          Affiliates|         0|\n",
      "|ec66fa36ab5e42558...|2020-06-09 16:17:36|Search Engine Mar...|         0|\n",
      "|ba0c1d0c041a4a539...|2020-06-05 01:18:50|Search Engine Mar...|         0|\n",
      "+--------------------+-------------------+--------------------+----------+\n",
      "only showing top 5 rows\n",
      "\n"
     ]
    }
   ],
   "source": [
    "data.select(\"uid\",\"time\",\"channel\",\"conversion\") \\\n",
    "     .show(5)"
   ]
  },
  {
   "cell_type": "markdown",
   "id": "d0689bb5",
   "metadata": {},
   "source": [
    "### Create a User Journey Table\n",
    "\n",
    "The query below aggregates each users journey into a single row. This includes\n",
    "\n",
    "- uid: the user identifier for a given user.\n",
    "- path: the list of channels that impressions for a given campaign have been delivered on to a given user.\n",
    "- first_interaction: the first channel that an impression for a given campaign was delivered on for a given user.\n",
    "- last_interaction: the last channel that an impression for a given campaign was delivered on for a given user.\n",
    "- conversion: boolean indicating whether the given user has converted (1) or not (0).\n",
    "\n",
    "\n",
    "This query is used to create a temporary view. The temporary view will be used in Step 2.3 to create a table."
   ]
  },
  {
   "cell_type": "code",
   "execution_count": 9,
   "id": "7604d127",
   "metadata": {},
   "outputs": [
    {
     "name": "stdout",
     "output_type": "stream",
     "text": [
      "++\n",
      "||\n",
      "++\n",
      "++\n",
      "\n"
     ]
    }
   ],
   "source": [
    "spark.sql(\"\"\"CREATE OR REPLACE TEMP VIEW user_journey_view AS\n",
    "SELECT\n",
    "  sub2.uid AS uid,CASE\n",
    "    WHEN sub2.conversion == 1 then concat('Start > ', sub2.path, ' > Conversion')\n",
    "    ELSE concat('Start > ', sub2.path, ' > Null')\n",
    "  END AS path,\n",
    "  sub2.first_interaction AS first_interaction,\n",
    "  sub2.last_interaction AS last_interaction,\n",
    "  sub2.conversion AS conversion,\n",
    "  sub2.visiting_order AS visiting_order\n",
    "FROM\n",
    "  (\n",
    "    SELECT\n",
    "      sub.uid AS uid,\n",
    "      concat_ws(' > ', collect_list(sub.channel)) AS path,\n",
    "      element_at(collect_list(sub.channel), 1) AS first_interaction,\n",
    "      element_at(collect_list(sub.channel), -1) AS last_interaction,\n",
    "      element_at(collect_list(sub.conversion), -1) AS conversion,\n",
    "      collect_list(sub.visit_order) AS visiting_order\n",
    "    FROM\n",
    "      (\n",
    "        SELECT\n",
    "          uid,\n",
    "          channel,\n",
    "          time,\n",
    "          conversion,\n",
    "          dense_rank() OVER (\n",
    "            PARTITION BY uid\n",
    "            ORDER BY\n",
    "              time asc\n",
    "          ) as visit_order\n",
    "        FROM\n",
    "          attribution\n",
    "      ) AS sub\n",
    "    GROUP BY\n",
    "      sub.uid\n",
    "  ) AS sub2;\n",
    "  \"\"\").show(10)"
   ]
  },
  {
   "cell_type": "code",
   "execution_count": 11,
   "id": "0c1832ba",
   "metadata": {},
   "outputs": [
    {
     "name": "stdout",
     "output_type": "stream",
     "text": [
      "+--------------------+--------------------+--------------------+--------------------+----------+--------------------+\n",
      "|                 uid|                path|   first_interaction|    last_interaction|conversion|      visiting_order|\n",
      "+--------------------+--------------------+--------------------+--------------------+----------+--------------------+\n",
      "|000035d3f4b2447eb...|Start > Affiliate...|          Affiliates|Search Engine Mar...|         0|[1, 2, 3, 4, 5, 6...|\n",
      "|00015bee850c40639...|Start > Search En...|Search Engine Mar...|      Social Network|         1|     [1, 2, 3, 4, 5]|\n",
      "|000171e4c4d24342b...|Start > Social Ne...|      Social Network|               Email|         0|[1, 2, 3, 4, 5, 5...|\n",
      "|00019a6df0324cab8...|Start > Social Ne...|      Social Network|Search Engine Mar...|         1|        [1, 2, 3, 4]|\n",
      "|0001c6ac7e4f41b5b...|Start > Social Ne...|      Social Network|Google Display Ne...|         0|  [1, 2, 3, 4, 5, 6]|\n",
      "+--------------------+--------------------+--------------------+--------------------+----------+--------------------+\n",
      "only showing top 5 rows\n",
      "\n"
     ]
    }
   ],
   "source": [
    "processed_d = spark.sql(\"select * from user_journey_view\")\n",
    "processed_d.show(5)"
   ]
  },
  {
   "cell_type": "code",
   "execution_count": 12,
   "id": "7e8edcf3",
   "metadata": {},
   "outputs": [],
   "source": [
    "dumpCSV = processed_d.withColumn(\"visiting_order\", col(\"visiting_order\").cast(\"string\")) \\\n",
    "                .write \\\n",
    "                .csv(path=\"usr_journey_attrition_data\")"
   ]
  },
  {
   "cell_type": "code",
   "execution_count": 13,
   "id": "670a33b9",
   "metadata": {},
   "outputs": [
    {
     "name": "stdout",
     "output_type": "stream",
     "text": [
      "+--------------------------------+-----------------------------------------------------------------------------------------------------------------------------------+-----------------------+--------------------+---+--------------------+\n",
      "|0000427e4c974a9e9ca054a6edb661f1|Start > Search Engine Marketing > Social Network > Google Display Network > Social Network > Search Engine Marketing > Email > Null|Search Engine Marketing|               Email|  0|  [1, 2, 3, 4, 5, 6]|\n",
      "+--------------------------------+-----------------------------------------------------------------------------------------------------------------------------------+-----------------------+--------------------+---+--------------------+\n",
      "|            00007b54c06247dea...|                                                                                                               Start > Google Di...|   Google Display Ne...|          Affiliates|  0|        [1, 2, 3, 4]|\n",
      "|            00010c1be74244eba...|                                                                                                               Start > Affiliate...|             Affiliates|Google Display Ne...|  0|              [1, 2]|\n",
      "|            00012725fdce4b08b...|                                                                                                               Start > Affiliate...|             Affiliates|          Affiliates|  0|[1, 2, 3, 4, 5, 6...|\n",
      "|            00013dd4f787470f8...|                                                                                                               Start > Search En...|   Search Engine Mar...|      Social Network|  0|[1, 2, 3, 4, 5, 6...|\n",
      "|            0001a1c3d15d42318...|                                                                                                               Start > Social Ne...|         Social Network|      Social Network|  0|[1, 2, 3, 4, 5, 6...|\n",
      "|            000242bee2f54d9ea...|                                                                                                               Start > Social Ne...|         Social Network|          Affiliates|  1|        [1, 2, 3, 4]|\n",
      "|            000247aba87a4cab9...|                                                                                                               Start > Search En...|   Search Engine Mar...|          Affiliates|  0|  [1, 2, 3, 4, 5, 6]|\n",
      "|            0002d0e8d402465b9...|                                                                                                               Start > Search En...|   Search Engine Mar...|Search Engine Mar...|  0|[1, 2, 3, 4, 5, 6...|\n",
      "|            000372916fa24e7b9...|                                                                                                               Start > Affiliate...|             Affiliates|      Social Network|  0|        [1, 2, 3, 4]|\n",
      "|            0003cb70a7664bbe9...|                                                                                                               Start > Social Ne...|         Social Network|          Affiliates|  1|           [1, 2, 3]|\n",
      "|            00044affa34d41b79...|                                                                                                               Start > Search En...|   Search Engine Mar...|      Social Network|  1|        [1, 2, 3, 4]|\n",
      "|            000527fb468044358...|                                                                                                               Start > Affiliate...|             Affiliates|          Affiliates|  0|[1, 2, 3, 4, 5, 6...|\n",
      "|            0006452ec24744ee9...|                                                                                                               Start > Social Ne...|         Social Network|          Affiliates|  0|[1, 2, 3, 4, 5, 6...|\n",
      "|            00068c1c491c4b2eb...|                                                                                                               Start > Search En...|   Search Engine Mar...|Search Engine Mar...|  0|              [1, 2]|\n",
      "|            0006e28f3cf040448...|                                                                                                               Start > Search En...|   Search Engine Mar...|      Social Network|  0|[1, 2, 3, 4, 5, 6...|\n",
      "|            0006e51a72af4d658...|                                                                                                               Start > Google Di...|   Google Display Ne...|          Affiliates|  0|        [1, 2, 3, 4]|\n",
      "|            0007b24fbfaa4489a...|                                                                                                               Start > Search En...|   Search Engine Mar...|          Affiliates|  0|[1, 2, 3, 4, 5, 6...|\n",
      "|            0007bb16a4d841b79...|                                                                                                               Start > Search En...|   Search Engine Mar...|Search Engine Mar...|  0|                 [1]|\n",
      "|            0008f1d399db4ab58...|                                                                                                               Start > Social Ne...|         Social Network|      Social Network|  1|           [1, 2, 3]|\n",
      "|            0008f557569c4129b...|                                                                                                               Start > Affiliate...|             Affiliates|      Social Network|  0|           [1, 2, 3]|\n",
      "+--------------------------------+-----------------------------------------------------------------------------------------------------------------------------------+-----------------------+--------------------+---+--------------------+\n",
      "only showing top 20 rows\n",
      "\n"
     ]
    }
   ],
   "source": [
    "#gold user journey databricks\n",
    "\n",
    "user_att_data = spark.read.format('csv').option('header','true').load('usr_journey_attrition_data/usr_journey_attribution_data.csv')\n",
    "user_att_data.show()"
   ]
  },
  {
   "cell_type": "code",
   "execution_count": 14,
   "id": "a8621a85",
   "metadata": {},
   "outputs": [],
   "source": [
    "from minio import Minio\n",
    "from sqlalchemy import create_engine\n",
    "\n",
    "ACCESS_KEY = \"DNPD2SAYLBELJ423HCNU\"\n",
    "SECRET_KEY = \"zF7F6W93HS8vt+JKen4U17+zhcHiwH47AMuO3ap0\"\n",
    "PUBLIC_BUCKET = \"shared-storage\"\n",
    "\n",
    "client = Minio(\n",
    "    endpoint=\"minio-server.default.svc.cluster.local:9000\",\n",
    "    access_key=ACCESS_KEY,\n",
    "    secret_key=SECRET_KEY,\n",
    "    secure=False,\n",
    ")"
   ]
  },
  {
   "cell_type": "code",
   "execution_count": 15,
   "id": "f6cdec43",
   "metadata": {},
   "outputs": [
    {
     "data": {
      "text/plain": [
       "<minio.helpers.ObjectWriteResult at 0x7fce6b8b9810>"
      ]
     },
     "execution_count": 15,
     "metadata": {},
     "output_type": "execute_result"
    }
   ],
   "source": [
    "#gold_user_journey\n",
    "\n",
    "data_file = \"/multi_touch_attribution/usr_journey_attribution_data.csv\"\n",
    "\n",
    "client.fput_object(\n",
    "    PUBLIC_BUCKET,\n",
    "    data_file,\n",
    "    'usr_journey_attrition_data/usr_journey_attribution_data.csv'  \n",
    ")"
   ]
  },
  {
   "cell_type": "markdown",
   "id": "a6e0f892",
   "metadata": {},
   "source": [
    "### Heuristic approach to compare with data-driven\n",
    "\n",
    "In the table, gold_user_journey, that we just created in the previous step, we captured the values for first_interaction and last_interaction in their own respective columns. With this data now in place, let's take a look at attribution using the heuristic methods **first-touch** and **last-touch**.\n",
    "\n",
    "In this step, we will:\n",
    "\n",
    "- Create a temporary view for first-touch and last-touch attribution metrics\n",
    "- Use the temporary view to create the gold_attribution table\n",
    "- Use the gold_attribution table to view first touch vs. last touch by channel\n",
    "\n",
    "\n",
    "After we build our Markov model we will then take a look at how attribution using a data-driven method compares to these heuristic methods."
   ]
  },
  {
   "cell_type": "markdown",
   "id": "acf3359a",
   "metadata": {},
   "source": [
    "**Create temporary view for first-touch and last-touch attribution metrics**"
   ]
  },
  {
   "cell_type": "code",
   "execution_count": 16,
   "id": "e469de91",
   "metadata": {},
   "outputs": [
    {
     "data": {
      "text/plain": [
       "DataFrame[]"
      ]
     },
     "execution_count": 16,
     "metadata": {},
     "output_type": "execute_result"
    }
   ],
   "source": [
    "spark.sql(\"\"\"CREATE OR REPLACE TEMP VIEW attribution_view AS\n",
    "SELECT\n",
    "  'first_touch' AS attribution_model,\n",
    "  first_interaction AS channel,\n",
    "  round(count(*) / (\n",
    "     SELECT COUNT(*)\n",
    "     FROM user_journey_view\n",
    "     WHERE conversion = 1),2) AS attribution_percent\n",
    "FROM user_journey_view\n",
    "WHERE conversion = 1\n",
    "GROUP BY first_interaction\n",
    "UNION\n",
    "SELECT\n",
    "  'last_touch' AS attribution_model,\n",
    "  last_interaction AS channel,\n",
    "  round(count(*) /(\n",
    "      SELECT COUNT(*)\n",
    "      FROM user_journey_view\n",
    "      WHERE conversion = 1),2) AS attribution_percent\n",
    "FROM user_journey_view\n",
    "WHERE conversion = 1\n",
    "GROUP BY last_interaction\n",
    "\"\"\")"
   ]
  },
  {
   "cell_type": "code",
   "execution_count": 18,
   "id": "3b99c7b4",
   "metadata": {},
   "outputs": [],
   "source": [
    "processed_attr_data = spark.sql(\"select * from attribution_view\")"
   ]
  },
  {
   "cell_type": "code",
   "execution_count": 19,
   "id": "0b092b9f",
   "metadata": {},
   "outputs": [
    {
     "name": "stdout",
     "output_type": "stream",
     "text": [
      "+-----------------+--------------------+-------------------+\n",
      "|attribution_model|             channel|attribution_percent|\n",
      "+-----------------+--------------------+-------------------+\n",
      "|      first_touch|               Email|               0.05|\n",
      "|      first_touch|      Social Network|               0.21|\n",
      "|      first_touch|Google Display Ne...|               0.15|\n",
      "|      first_touch|Search Engine Mar...|               0.29|\n",
      "|      first_touch|          Affiliates|               0.31|\n",
      "|       last_touch|Search Engine Mar...|                0.2|\n",
      "|       last_touch|      Social Network|                0.3|\n",
      "|       last_touch|          Affiliates|               0.39|\n",
      "|       last_touch|Google Display Ne...|                0.1|\n",
      "|       last_touch|               Email|               0.01|\n",
      "+-----------------+--------------------+-------------------+\n",
      "\n"
     ]
    }
   ],
   "source": [
    "processed_attr_data.show()"
   ]
  },
  {
   "cell_type": "code",
   "execution_count": 20,
   "id": "97923932",
   "metadata": {},
   "outputs": [],
   "source": [
    "processed_attr_data.write.option(\"header\",True) \\\n",
    " .csv(\"usr_journey_attrition_data/usr_attribution_data.csv\")"
   ]
  },
  {
   "cell_type": "code",
   "execution_count": 21,
   "id": "fa136d9f",
   "metadata": {},
   "outputs": [
    {
     "data": {
      "text/plain": [
       "<minio.helpers.ObjectWriteResult at 0x7fcea68a0ac0>"
      ]
     },
     "execution_count": 21,
     "metadata": {},
     "output_type": "execute_result"
    }
   ],
   "source": [
    "#gold_attribution\n",
    "\n",
    "data_file = \"/multi_touch_attribution/usr_attribution_data.csv\"\n",
    "\n",
    "client.fput_object(\n",
    "    PUBLIC_BUCKET,\n",
    "    data_file,\n",
    "    'usr_journey_attrition_data/usr_attribution_data.csv/usr_attribution_data.csv'  \n",
    ")"
   ]
  },
  {
   "cell_type": "markdown",
   "id": "2cef970f",
   "metadata": {},
   "source": [
    "### Use the usr_attribution table to view first touch vs. last touch by channel"
   ]
  },
  {
   "cell_type": "code",
   "execution_count": 23,
   "id": "5538b9b4",
   "metadata": {},
   "outputs": [
    {
     "data": {
      "text/plain": [
       "<seaborn.axisgrid.FacetGrid at 0x7fce6bdac5b0>"
      ]
     },
     "execution_count": 23,
     "metadata": {},
     "output_type": "execute_result"
    },
    {
     "data": {
      "image/png": "[encoded data removed]",
      "text/plain": [
       "<Figure size 848.305x360 with 1 Axes>"
      ]
     },
     "metadata": {
      "needs_background": "light"
     },
     "output_type": "display_data"
    }
   ],
   "source": [
    "import seaborn as sns\n",
    "attribution_pd = spark.table('attribution_view').toPandas()\n",
    " \n",
    "sns.set(font_scale=1.1)\n",
    "sns.catplot(x='channel',y='attribution_percent',hue='attribution_model',data=attribution_pd, kind='bar', aspect=2).set_xticklabels(rotation=15)"
   ]
  },
  {
   "cell_type": "code",
   "execution_count": null,
   "id": "f56c560c",
   "metadata": {},
   "outputs": [],
   "source": []
  }
 ],
 "metadata": {
  "kernelspec": {
   "display_name": "Python 3 (ipykernel)",
   "language": "python",
   "name": "python3"
  },
  "language_info": {
   "codemirror_mode": {
    "name": "ipython",
    "version": 3
   },
   "file_extension": ".py",
   "mimetype": "text/x-python",
   "name": "python",
   "nbconvert_exporter": "python",
   "pygments_lexer": "ipython3",
   "version": "3.10.5"
  }
 },
 "nbformat": 4,
 "nbformat_minor": 5
}
